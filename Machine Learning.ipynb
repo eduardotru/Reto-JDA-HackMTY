{
 "cells": [
  {
   "cell_type": "markdown",
   "metadata": {},
   "source": [
    "# Machine Learning"
   ]
  },
  {
   "cell_type": "code",
   "execution_count": 4,
   "metadata": {},
   "outputs": [],
   "source": [
    "from sklearn.metrics import mean_squared_error"
   ]
  },
  {
   "cell_type": "markdown",
   "metadata": {},
   "source": [
    "## Load data"
   ]
  },
  {
   "cell_type": "code",
   "execution_count": 82,
   "metadata": {},
   "outputs": [],
   "source": [
    "import pandas as pd\n",
    "\n",
    "data = pd.read_csv('../data_with_temp_processed.csv')"
   ]
  },
  {
   "cell_type": "code",
   "execution_count": 83,
   "metadata": {},
   "outputs": [
    {
     "data": {
      "text/html": [
       "<div>\n",
       "<style scoped>\n",
       "    .dataframe tbody tr th:only-of-type {\n",
       "        vertical-align: middle;\n",
       "    }\n",
       "\n",
       "    .dataframe tbody tr th {\n",
       "        vertical-align: top;\n",
       "    }\n",
       "\n",
       "    .dataframe thead th {\n",
       "        text-align: right;\n",
       "    }\n",
       "</style>\n",
       "<table border=\"1\" class=\"dataframe\">\n",
       "  <thead>\n",
       "    <tr style=\"text-align: right;\">\n",
       "      <th></th>\n",
       "      <th>Unnamed: 0</th>\n",
       "      <th>location</th>\n",
       "      <th>product</th>\n",
       "      <th>sa_quantity</th>\n",
       "      <th>temp_mean</th>\n",
       "      <th>temp_max</th>\n",
       "      <th>temp_min</th>\n",
       "      <th>sunshine_quant</th>\n",
       "      <th>price</th>\n",
       "      <th>is_special_event</th>\n",
       "      <th>weekday</th>\n",
       "      <th>day_of_year</th>\n",
       "    </tr>\n",
       "  </thead>\n",
       "  <tbody>\n",
       "    <tr>\n",
       "      <td>count</td>\n",
       "      <td>9.706176e+06</td>\n",
       "      <td>9.706176e+06</td>\n",
       "      <td>9.706176e+06</td>\n",
       "      <td>9.706176e+06</td>\n",
       "      <td>9.706176e+06</td>\n",
       "      <td>9.706176e+06</td>\n",
       "      <td>9.706176e+06</td>\n",
       "      <td>9.706176e+06</td>\n",
       "      <td>9.706176e+06</td>\n",
       "      <td>9.706176e+06</td>\n",
       "      <td>9.706176e+06</td>\n",
       "      <td>9.706176e+06</td>\n",
       "    </tr>\n",
       "    <tr>\n",
       "      <td>mean</td>\n",
       "      <td>4.941555e+06</td>\n",
       "      <td>2.272938e+03</td>\n",
       "      <td>1.850000e+02</td>\n",
       "      <td>8.502425e+00</td>\n",
       "      <td>8.665875e+00</td>\n",
       "      <td>1.173502e+01</td>\n",
       "      <td>5.596728e+00</td>\n",
       "      <td>3.629658e+02</td>\n",
       "      <td>2.990399e+00</td>\n",
       "      <td>2.463504e-01</td>\n",
       "      <td>3.009124e+00</td>\n",
       "      <td>1.597263e+02</td>\n",
       "    </tr>\n",
       "    <tr>\n",
       "      <td>std</td>\n",
       "      <td>2.922881e+06</td>\n",
       "      <td>2.071264e+03</td>\n",
       "      <td>1.065207e+02</td>\n",
       "      <td>1.294981e+01</td>\n",
       "      <td>5.113955e+00</td>\n",
       "      <td>5.717526e+00</td>\n",
       "      <td>4.884786e+00</td>\n",
       "      <td>1.812255e+02</td>\n",
       "      <td>2.053613e+00</td>\n",
       "      <td>4.308850e-01</td>\n",
       "      <td>2.002259e+00</td>\n",
       "      <td>1.066001e+02</td>\n",
       "    </tr>\n",
       "    <tr>\n",
       "      <td>min</td>\n",
       "      <td>0.000000e+00</td>\n",
       "      <td>5.500000e+01</td>\n",
       "      <td>1.000000e+00</td>\n",
       "      <td>0.000000e+00</td>\n",
       "      <td>-6.545000e+00</td>\n",
       "      <td>-2.930000e+00</td>\n",
       "      <td>-1.091000e+01</td>\n",
       "      <td>0.000000e+00</td>\n",
       "      <td>0.000000e+00</td>\n",
       "      <td>0.000000e+00</td>\n",
       "      <td>0.000000e+00</td>\n",
       "      <td>0.000000e+00</td>\n",
       "    </tr>\n",
       "    <tr>\n",
       "      <td>25%</td>\n",
       "      <td>2.426544e+06</td>\n",
       "      <td>4.200000e+02</td>\n",
       "      <td>9.300000e+01</td>\n",
       "      <td>2.000000e+00</td>\n",
       "      <td>4.960000e+00</td>\n",
       "      <td>7.820000e+00</td>\n",
       "      <td>1.970000e+00</td>\n",
       "      <td>2.250000e+02</td>\n",
       "      <td>1.736562e+00</td>\n",
       "      <td>0.000000e+00</td>\n",
       "      <td>1.000000e+00</td>\n",
       "      <td>7.275000e+01</td>\n",
       "    </tr>\n",
       "    <tr>\n",
       "      <td>50%</td>\n",
       "      <td>4.853088e+06</td>\n",
       "      <td>2.058000e+03</td>\n",
       "      <td>1.850000e+02</td>\n",
       "      <td>5.000000e+00</td>\n",
       "      <td>8.510000e+00</td>\n",
       "      <td>1.142000e+01</td>\n",
       "      <td>5.560000e+00</td>\n",
       "      <td>3.380000e+02</td>\n",
       "      <td>2.490909e+00</td>\n",
       "      <td>0.000000e+00</td>\n",
       "      <td>3.000000e+00</td>\n",
       "      <td>1.440000e+02</td>\n",
       "    </tr>\n",
       "    <tr>\n",
       "      <td>75%</td>\n",
       "      <td>7.330184e+06</td>\n",
       "      <td>3.133750e+03</td>\n",
       "      <td>2.770000e+02</td>\n",
       "      <td>1.000000e+01</td>\n",
       "      <td>1.247000e+01</td>\n",
       "      <td>1.598000e+01</td>\n",
       "      <td>9.230000e+00</td>\n",
       "      <td>4.880000e+02</td>\n",
       "      <td>3.490000e+00</td>\n",
       "      <td>0.000000e+00</td>\n",
       "      <td>5.000000e+00</td>\n",
       "      <td>2.402500e+02</td>\n",
       "    </tr>\n",
       "    <tr>\n",
       "      <td>max</td>\n",
       "      <td>1.011060e+07</td>\n",
       "      <td>9.137000e+03</td>\n",
       "      <td>3.690000e+02</td>\n",
       "      <td>8.190000e+02</td>\n",
       "      <td>2.563000e+01</td>\n",
       "      <td>3.028000e+01</td>\n",
       "      <td>2.098000e+01</td>\n",
       "      <td>1.022000e+03</td>\n",
       "      <td>5.610000e+01</td>\n",
       "      <td>1.000000e+00</td>\n",
       "      <td>6.000000e+00</td>\n",
       "      <td>3.820000e+02</td>\n",
       "    </tr>\n",
       "  </tbody>\n",
       "</table>\n",
       "</div>"
      ],
      "text/plain": [
       "         Unnamed: 0      location       product   sa_quantity     temp_mean  \\\n",
       "count  9.706176e+06  9.706176e+06  9.706176e+06  9.706176e+06  9.706176e+06   \n",
       "mean   4.941555e+06  2.272938e+03  1.850000e+02  8.502425e+00  8.665875e+00   \n",
       "std    2.922881e+06  2.071264e+03  1.065207e+02  1.294981e+01  5.113955e+00   \n",
       "min    0.000000e+00  5.500000e+01  1.000000e+00  0.000000e+00 -6.545000e+00   \n",
       "25%    2.426544e+06  4.200000e+02  9.300000e+01  2.000000e+00  4.960000e+00   \n",
       "50%    4.853088e+06  2.058000e+03  1.850000e+02  5.000000e+00  8.510000e+00   \n",
       "75%    7.330184e+06  3.133750e+03  2.770000e+02  1.000000e+01  1.247000e+01   \n",
       "max    1.011060e+07  9.137000e+03  3.690000e+02  8.190000e+02  2.563000e+01   \n",
       "\n",
       "           temp_max      temp_min  sunshine_quant         price  \\\n",
       "count  9.706176e+06  9.706176e+06    9.706176e+06  9.706176e+06   \n",
       "mean   1.173502e+01  5.596728e+00    3.629658e+02  2.990399e+00   \n",
       "std    5.717526e+00  4.884786e+00    1.812255e+02  2.053613e+00   \n",
       "min   -2.930000e+00 -1.091000e+01    0.000000e+00  0.000000e+00   \n",
       "25%    7.820000e+00  1.970000e+00    2.250000e+02  1.736562e+00   \n",
       "50%    1.142000e+01  5.560000e+00    3.380000e+02  2.490909e+00   \n",
       "75%    1.598000e+01  9.230000e+00    4.880000e+02  3.490000e+00   \n",
       "max    3.028000e+01  2.098000e+01    1.022000e+03  5.610000e+01   \n",
       "\n",
       "       is_special_event       weekday   day_of_year  \n",
       "count      9.706176e+06  9.706176e+06  9.706176e+06  \n",
       "mean       2.463504e-01  3.009124e+00  1.597263e+02  \n",
       "std        4.308850e-01  2.002259e+00  1.066001e+02  \n",
       "min        0.000000e+00  0.000000e+00  0.000000e+00  \n",
       "25%        0.000000e+00  1.000000e+00  7.275000e+01  \n",
       "50%        0.000000e+00  3.000000e+00  1.440000e+02  \n",
       "75%        0.000000e+00  5.000000e+00  2.402500e+02  \n",
       "max        1.000000e+00  6.000000e+00  3.820000e+02  "
      ]
     },
     "execution_count": 83,
     "metadata": {},
     "output_type": "execute_result"
    }
   ],
   "source": [
    "data.describe()"
   ]
  },
  {
   "cell_type": "code",
   "execution_count": 84,
   "metadata": {},
   "outputs": [],
   "source": [
    "data = data.drop(columns=['Unnamed: 0'])"
   ]
  },
  {
   "cell_type": "code",
   "execution_count": 55,
   "metadata": {},
   "outputs": [],
   "source": [
    "sample = data.sample(n=500000, random_state=91)\n",
    "sample = sample.drop(columns=['temp_mean'])"
   ]
  },
  {
   "cell_type": "code",
   "execution_count": 56,
   "metadata": {},
   "outputs": [
    {
     "data": {
      "text/html": [
       "<div>\n",
       "<style scoped>\n",
       "    .dataframe tbody tr th:only-of-type {\n",
       "        vertical-align: middle;\n",
       "    }\n",
       "\n",
       "    .dataframe tbody tr th {\n",
       "        vertical-align: top;\n",
       "    }\n",
       "\n",
       "    .dataframe thead th {\n",
       "        text-align: right;\n",
       "    }\n",
       "</style>\n",
       "<table border=\"1\" class=\"dataframe\">\n",
       "  <thead>\n",
       "    <tr style=\"text-align: right;\">\n",
       "      <th></th>\n",
       "      <th>location</th>\n",
       "      <th>product</th>\n",
       "      <th>sa_quantity</th>\n",
       "      <th>temp_max</th>\n",
       "      <th>temp_min</th>\n",
       "      <th>sunshine_quant</th>\n",
       "      <th>price</th>\n",
       "      <th>is_special_event</th>\n",
       "      <th>weekday</th>\n",
       "      <th>day_of_year</th>\n",
       "    </tr>\n",
       "  </thead>\n",
       "  <tbody>\n",
       "    <tr>\n",
       "      <td>count</td>\n",
       "      <td>500000.000000</td>\n",
       "      <td>500000.000000</td>\n",
       "      <td>500000.000000</td>\n",
       "      <td>500000.000000</td>\n",
       "      <td>500000.000000</td>\n",
       "      <td>500000.000000</td>\n",
       "      <td>500000.000000</td>\n",
       "      <td>500000.000000</td>\n",
       "      <td>500000.000000</td>\n",
       "      <td>500000.000000</td>\n",
       "    </tr>\n",
       "    <tr>\n",
       "      <td>mean</td>\n",
       "      <td>2272.482596</td>\n",
       "      <td>184.912128</td>\n",
       "      <td>8.496744</td>\n",
       "      <td>11.742038</td>\n",
       "      <td>5.596030</td>\n",
       "      <td>363.505322</td>\n",
       "      <td>2.989823</td>\n",
       "      <td>0.246172</td>\n",
       "      <td>3.007984</td>\n",
       "      <td>159.702884</td>\n",
       "    </tr>\n",
       "    <tr>\n",
       "      <td>std</td>\n",
       "      <td>2070.387745</td>\n",
       "      <td>106.367515</td>\n",
       "      <td>12.952539</td>\n",
       "      <td>5.720407</td>\n",
       "      <td>4.883897</td>\n",
       "      <td>181.290533</td>\n",
       "      <td>2.052074</td>\n",
       "      <td>0.430780</td>\n",
       "      <td>2.000224</td>\n",
       "      <td>106.520245</td>\n",
       "    </tr>\n",
       "    <tr>\n",
       "      <td>min</td>\n",
       "      <td>55.000000</td>\n",
       "      <td>1.000000</td>\n",
       "      <td>0.000000</td>\n",
       "      <td>-2.930000</td>\n",
       "      <td>-10.910000</td>\n",
       "      <td>0.000000</td>\n",
       "      <td>0.000000</td>\n",
       "      <td>0.000000</td>\n",
       "      <td>0.000000</td>\n",
       "      <td>0.000000</td>\n",
       "    </tr>\n",
       "    <tr>\n",
       "      <td>25%</td>\n",
       "      <td>369.000000</td>\n",
       "      <td>93.000000</td>\n",
       "      <td>2.000000</td>\n",
       "      <td>7.810000</td>\n",
       "      <td>1.970000</td>\n",
       "      <td>225.000000</td>\n",
       "      <td>1.733333</td>\n",
       "      <td>0.000000</td>\n",
       "      <td>1.000000</td>\n",
       "      <td>73.000000</td>\n",
       "    </tr>\n",
       "    <tr>\n",
       "      <td>50%</td>\n",
       "      <td>2011.000000</td>\n",
       "      <td>185.000000</td>\n",
       "      <td>5.000000</td>\n",
       "      <td>11.430000</td>\n",
       "      <td>5.560000</td>\n",
       "      <td>339.000000</td>\n",
       "      <td>2.490625</td>\n",
       "      <td>0.000000</td>\n",
       "      <td>3.000000</td>\n",
       "      <td>144.000000</td>\n",
       "    </tr>\n",
       "    <tr>\n",
       "      <td>75%</td>\n",
       "      <td>3175.000000</td>\n",
       "      <td>277.000000</td>\n",
       "      <td>10.000000</td>\n",
       "      <td>15.980000</td>\n",
       "      <td>9.240000</td>\n",
       "      <td>489.000000</td>\n",
       "      <td>3.490164</td>\n",
       "      <td>0.000000</td>\n",
       "      <td>5.000000</td>\n",
       "      <td>240.000000</td>\n",
       "    </tr>\n",
       "    <tr>\n",
       "      <td>max</td>\n",
       "      <td>9137.000000</td>\n",
       "      <td>369.000000</td>\n",
       "      <td>457.000000</td>\n",
       "      <td>30.280000</td>\n",
       "      <td>20.980000</td>\n",
       "      <td>1022.000000</td>\n",
       "      <td>19.000000</td>\n",
       "      <td>1.000000</td>\n",
       "      <td>6.000000</td>\n",
       "      <td>382.000000</td>\n",
       "    </tr>\n",
       "  </tbody>\n",
       "</table>\n",
       "</div>"
      ],
      "text/plain": [
       "            location        product    sa_quantity       temp_max  \\\n",
       "count  500000.000000  500000.000000  500000.000000  500000.000000   \n",
       "mean     2272.482596     184.912128       8.496744      11.742038   \n",
       "std      2070.387745     106.367515      12.952539       5.720407   \n",
       "min        55.000000       1.000000       0.000000      -2.930000   \n",
       "25%       369.000000      93.000000       2.000000       7.810000   \n",
       "50%      2011.000000     185.000000       5.000000      11.430000   \n",
       "75%      3175.000000     277.000000      10.000000      15.980000   \n",
       "max      9137.000000     369.000000     457.000000      30.280000   \n",
       "\n",
       "            temp_min  sunshine_quant          price  is_special_event  \\\n",
       "count  500000.000000   500000.000000  500000.000000     500000.000000   \n",
       "mean        5.596030      363.505322       2.989823          0.246172   \n",
       "std         4.883897      181.290533       2.052074          0.430780   \n",
       "min       -10.910000        0.000000       0.000000          0.000000   \n",
       "25%         1.970000      225.000000       1.733333          0.000000   \n",
       "50%         5.560000      339.000000       2.490625          0.000000   \n",
       "75%         9.240000      489.000000       3.490164          0.000000   \n",
       "max        20.980000     1022.000000      19.000000          1.000000   \n",
       "\n",
       "             weekday    day_of_year  \n",
       "count  500000.000000  500000.000000  \n",
       "mean        3.007984     159.702884  \n",
       "std         2.000224     106.520245  \n",
       "min         0.000000       0.000000  \n",
       "25%         1.000000      73.000000  \n",
       "50%         3.000000     144.000000  \n",
       "75%         5.000000     240.000000  \n",
       "max         6.000000     382.000000  "
      ]
     },
     "execution_count": 56,
     "metadata": {},
     "output_type": "execute_result"
    }
   ],
   "source": [
    "sample.describe()"
   ]
  },
  {
   "cell_type": "code",
   "execution_count": 7,
   "metadata": {},
   "outputs": [
    {
     "data": {
      "text/html": [
       "<div>\n",
       "<style scoped>\n",
       "    .dataframe tbody tr th:only-of-type {\n",
       "        vertical-align: middle;\n",
       "    }\n",
       "\n",
       "    .dataframe tbody tr th {\n",
       "        vertical-align: top;\n",
       "    }\n",
       "\n",
       "    .dataframe thead th {\n",
       "        text-align: right;\n",
       "    }\n",
       "</style>\n",
       "<table border=\"1\" class=\"dataframe\">\n",
       "  <thead>\n",
       "    <tr style=\"text-align: right;\">\n",
       "      <th></th>\n",
       "      <th>location</th>\n",
       "      <th>product</th>\n",
       "      <th>sa_quantity</th>\n",
       "      <th>temp_max</th>\n",
       "      <th>temp_min</th>\n",
       "      <th>sunshine_quant</th>\n",
       "      <th>price</th>\n",
       "      <th>is_special_event</th>\n",
       "      <th>weekday</th>\n",
       "      <th>day_of_year</th>\n",
       "    </tr>\n",
       "  </thead>\n",
       "  <tbody>\n",
       "    <tr>\n",
       "      <td>count</td>\n",
       "      <td>495053.000000</td>\n",
       "      <td>495053.000000</td>\n",
       "      <td>495053.000000</td>\n",
       "      <td>495053.000000</td>\n",
       "      <td>495053.000000</td>\n",
       "      <td>495053.000000</td>\n",
       "      <td>495053.000000</td>\n",
       "      <td>495053.000000</td>\n",
       "      <td>495053.000000</td>\n",
       "      <td>495053.000000</td>\n",
       "    </tr>\n",
       "    <tr>\n",
       "      <td>mean</td>\n",
       "      <td>2276.500981</td>\n",
       "      <td>185.366516</td>\n",
       "      <td>7.647696</td>\n",
       "      <td>11.743395</td>\n",
       "      <td>5.596372</td>\n",
       "      <td>363.436121</td>\n",
       "      <td>2.995834</td>\n",
       "      <td>0.246596</td>\n",
       "      <td>3.002394</td>\n",
       "      <td>159.638010</td>\n",
       "    </tr>\n",
       "    <tr>\n",
       "      <td>std</td>\n",
       "      <td>2070.546384</td>\n",
       "      <td>106.360349</td>\n",
       "      <td>9.003645</td>\n",
       "      <td>5.722752</td>\n",
       "      <td>4.885619</td>\n",
       "      <td>181.276079</td>\n",
       "      <td>2.055851</td>\n",
       "      <td>0.431030</td>\n",
       "      <td>2.003288</td>\n",
       "      <td>106.501117</td>\n",
       "    </tr>\n",
       "    <tr>\n",
       "      <td>min</td>\n",
       "      <td>55.000000</td>\n",
       "      <td>1.000000</td>\n",
       "      <td>0.000000</td>\n",
       "      <td>-2.930000</td>\n",
       "      <td>-10.910000</td>\n",
       "      <td>0.000000</td>\n",
       "      <td>0.000000</td>\n",
       "      <td>0.000000</td>\n",
       "      <td>0.000000</td>\n",
       "      <td>0.000000</td>\n",
       "    </tr>\n",
       "    <tr>\n",
       "      <td>25%</td>\n",
       "      <td>437.000000</td>\n",
       "      <td>93.000000</td>\n",
       "      <td>2.000000</td>\n",
       "      <td>7.820000</td>\n",
       "      <td>1.970000</td>\n",
       "      <td>225.000000</td>\n",
       "      <td>1.750000</td>\n",
       "      <td>0.000000</td>\n",
       "      <td>1.000000</td>\n",
       "      <td>73.000000</td>\n",
       "    </tr>\n",
       "    <tr>\n",
       "      <td>50%</td>\n",
       "      <td>2105.000000</td>\n",
       "      <td>186.000000</td>\n",
       "      <td>5.000000</td>\n",
       "      <td>11.430000</td>\n",
       "      <td>5.560000</td>\n",
       "      <td>339.000000</td>\n",
       "      <td>2.491176</td>\n",
       "      <td>0.000000</td>\n",
       "      <td>3.000000</td>\n",
       "      <td>144.000000</td>\n",
       "    </tr>\n",
       "    <tr>\n",
       "      <td>75%</td>\n",
       "      <td>3175.000000</td>\n",
       "      <td>277.000000</td>\n",
       "      <td>10.000000</td>\n",
       "      <td>15.990000</td>\n",
       "      <td>9.250000</td>\n",
       "      <td>489.000000</td>\n",
       "      <td>3.490909</td>\n",
       "      <td>0.000000</td>\n",
       "      <td>5.000000</td>\n",
       "      <td>240.000000</td>\n",
       "    </tr>\n",
       "    <tr>\n",
       "      <td>max</td>\n",
       "      <td>9137.000000</td>\n",
       "      <td>369.000000</td>\n",
       "      <td>60.000000</td>\n",
       "      <td>30.280000</td>\n",
       "      <td>20.980000</td>\n",
       "      <td>1022.000000</td>\n",
       "      <td>19.000000</td>\n",
       "      <td>1.000000</td>\n",
       "      <td>6.000000</td>\n",
       "      <td>382.000000</td>\n",
       "    </tr>\n",
       "  </tbody>\n",
       "</table>\n",
       "</div>"
      ],
      "text/plain": [
       "            location        product    sa_quantity       temp_max  \\\n",
       "count  495053.000000  495053.000000  495053.000000  495053.000000   \n",
       "mean     2276.500981     185.366516       7.647696      11.743395   \n",
       "std      2070.546384     106.360349       9.003645       5.722752   \n",
       "min        55.000000       1.000000       0.000000      -2.930000   \n",
       "25%       437.000000      93.000000       2.000000       7.820000   \n",
       "50%      2105.000000     186.000000       5.000000      11.430000   \n",
       "75%      3175.000000     277.000000      10.000000      15.990000   \n",
       "max      9137.000000     369.000000      60.000000      30.280000   \n",
       "\n",
       "            temp_min  sunshine_quant          price  is_special_event  \\\n",
       "count  495053.000000   495053.000000  495053.000000     495053.000000   \n",
       "mean        5.596372      363.436121       2.995834          0.246596   \n",
       "std         4.885619      181.276079       2.055851          0.431030   \n",
       "min       -10.910000        0.000000       0.000000          0.000000   \n",
       "25%         1.970000      225.000000       1.750000          0.000000   \n",
       "50%         5.560000      339.000000       2.491176          0.000000   \n",
       "75%         9.250000      489.000000       3.490909          0.000000   \n",
       "max        20.980000     1022.000000      19.000000          1.000000   \n",
       "\n",
       "             weekday    day_of_year  \n",
       "count  495053.000000  495053.000000  \n",
       "mean        3.002394     159.638010  \n",
       "std         2.003288     106.501117  \n",
       "min         0.000000       0.000000  \n",
       "25%         1.000000      73.000000  \n",
       "50%         3.000000     144.000000  \n",
       "75%         5.000000     240.000000  \n",
       "max         6.000000     382.000000  "
      ]
     },
     "execution_count": 7,
     "metadata": {},
     "output_type": "execute_result"
    }
   ],
   "source": [
    "sample = sample[sample['sa_quantity'] <= 60]\n",
    "sample.describe()"
   ]
  },
  {
   "cell_type": "markdown",
   "metadata": {},
   "source": [
    "\n",
    "## Train/Test split"
   ]
  },
  {
   "cell_type": "code",
   "execution_count": 8,
   "metadata": {},
   "outputs": [],
   "source": [
    "from sklearn.model_selection import train_test_split\n",
    "\n",
    "X = sample.drop(columns=['sa_quantity'])\n",
    "y = sample['sa_quantity']\n",
    "\n",
    "X_train, X_test, y_train, y_test = train_test_split(X, y, test_size=0.2, random_state=91)"
   ]
  },
  {
   "cell_type": "markdown",
   "metadata": {},
   "source": [
    "## Scale data"
   ]
  },
  {
   "cell_type": "code",
   "execution_count": 9,
   "metadata": {},
   "outputs": [],
   "source": [
    "from sklearn.preprocessing import StandardScaler\n",
    "\n",
    "scaler = StandardScaler()\n",
    "scaler.fit(X_train)\n",
    "\n",
    "X_train = scaler.transform(X_train)\n",
    "X_test = scaler.transform(X_test)"
   ]
  },
  {
   "cell_type": "code",
   "execution_count": 15,
   "metadata": {},
   "outputs": [
    {
     "data": {
      "text/plain": [
       "['scaler.joblib']"
      ]
     },
     "execution_count": 15,
     "metadata": {},
     "output_type": "execute_result"
    }
   ],
   "source": [
    "from joblib import dump\n",
    "\n",
    "dump(scaler, 'scaler.joblib')"
   ]
  },
  {
   "cell_type": "markdown",
   "metadata": {},
   "source": [
    "## Reduce dimensions (not useful)"
   ]
  },
  {
   "cell_type": "code",
   "execution_count": 24,
   "metadata": {},
   "outputs": [
    {
     "name": "stdout",
     "output_type": "stream",
     "text": [
      "(80000, 59)\n",
      "(80000, 8)\n"
     ]
    }
   ],
   "source": [
    "from sklearn.decomposition import FactorAnalysis\n",
    "\n",
    "fa_transformer = FactorAnalysis(n_components=8, random_state=91)\n",
    "\n",
    "fa_transformer.fit(X_train)\n",
    "X_fa_train = fa_transformer.transform(X_train)\n",
    "print(X_train.shape)\n",
    "print(X_fa_train.shape)"
   ]
  },
  {
   "cell_type": "markdown",
   "metadata": {},
   "source": [
    "## Spectral Embedding (not useful)"
   ]
  },
  {
   "cell_type": "code",
   "execution_count": null,
   "metadata": {},
   "outputs": [],
   "source": [
    "from sklearn.manifold import SpectralEmbedding\n",
    "\n",
    "embedding = SpectralEmbedding(n_components=7)\n",
    "embedding.fit(X_train)\n",
    "X_e_train = embedding.transform(X_train)\n",
    "print(X_train.shape)\n",
    "print(X_e_train.shape)"
   ]
  },
  {
   "cell_type": "markdown",
   "metadata": {},
   "source": [
    "## PCA"
   ]
  },
  {
   "cell_type": "code",
   "execution_count": 30,
   "metadata": {},
   "outputs": [
    {
     "name": "stdout",
     "output_type": "stream",
     "text": [
      "(80000, 59)\n",
      "(80000, 49)\n"
     ]
    }
   ],
   "source": [
    "from sklearn.decomposition import PCA\n",
    "\n",
    "pca = PCA(n_components=0.9)\n",
    "pca.fit(X_train)\n",
    "print(X_train.shape)\n",
    "X_train = pca.transform(X_train)\n",
    "X_test = pca.transform(X_test)\n",
    "print(X_train.shape)"
   ]
  },
  {
   "cell_type": "markdown",
   "metadata": {},
   "source": [
    "## PCA transpose (not useful)"
   ]
  },
  {
   "cell_type": "code",
   "execution_count": 23,
   "metadata": {},
   "outputs": [
    {
     "name": "stdout",
     "output_type": "stream",
     "text": [
      "(10, 4853088)\n",
      "(10, 10)\n"
     ]
    }
   ],
   "source": [
    "tpca = PCA(n_components=10)\n",
    "X_t_train = X_train.T\n",
    "tpca.fit(X_t_train)\n",
    "X_tpca_train = tpca.transform(X_t_train)\n",
    "print(X_t_train.shape)\n",
    "print(X_tpca_train.shape)"
   ]
  },
  {
   "cell_type": "markdown",
   "metadata": {},
   "source": [
    "## Random Forest"
   ]
  },
  {
   "cell_type": "code",
   "execution_count": 13,
   "metadata": {},
   "outputs": [
    {
     "name": "stdout",
     "output_type": "stream",
     "text": [
      "Random forest regressor error: 22.657005691286827\n"
     ]
    }
   ],
   "source": [
    "from sklearn.ensemble import RandomForestRegressor\n",
    "\n",
    "clf = RandomForestRegressor(n_estimators=100, random_state=91)\n",
    "clf.fit(X_train, y_train)\n",
    "\n",
    "y_predict = clf.predict(X_test)\n",
    "\n",
    "rf_mse = mean_squared_error(y_test, y_predict)\n",
    "print(f'Random forest regressor error: {rf_mse}')"
   ]
  },
  {
   "cell_type": "code",
   "execution_count": 14,
   "metadata": {},
   "outputs": [
    {
     "data": {
      "text/plain": [
       "['regressor.joblib']"
      ]
     },
     "execution_count": 14,
     "metadata": {},
     "output_type": "execute_result"
    }
   ],
   "source": [
    "from joblib import dump\n",
    "dump(clf, 'regressor.joblib')"
   ]
  },
  {
   "cell_type": "code",
   "execution_count": 23,
   "metadata": {},
   "outputs": [
    {
     "data": {
      "text/plain": [
       "8041.866525874267"
      ]
     },
     "execution_count": 23,
     "metadata": {},
     "output_type": "execute_result"
    }
   ],
   "source": [
    "outliers = sample[sample['sa_quantity'] > 60]\n",
    "outliers\n",
    "\n",
    "y_predict = clf.predict(outliers.drop(columns=['sa_quantity']))\n",
    "\n",
    "mse = mean_squared_error(outliers['sa_quantity'], y_predict)\n",
    "mse"
   ]
  },
  {
   "cell_type": "markdown",
   "metadata": {},
   "source": [
    "## SGDRegressor"
   ]
  },
  {
   "cell_type": "code",
   "execution_count": 10,
   "metadata": {},
   "outputs": [
    {
     "name": "stdout",
     "output_type": "stream",
     "text": [
      "SGDRegressor error: 75.60759167006607\n"
     ]
    }
   ],
   "source": [
    "from sklearn.linear_model import SGDRegressor\n",
    "\n",
    "sgd = SGDRegressor()\n",
    "sgd.fit(X_train, y_train)\n",
    "y_predict = sgd.predict(X_test)\n",
    "\n",
    "sgd_mse = mean_squared_error(y_test, y_predict)\n",
    "print(f'SGDRegressor error: {sgd_mse}')"
   ]
  },
  {
   "cell_type": "markdown",
   "metadata": {},
   "source": [
    "## Gradient Boosting regressor"
   ]
  },
  {
   "cell_type": "code",
   "execution_count": 13,
   "metadata": {},
   "outputs": [
    {
     "name": "stdout",
     "output_type": "stream",
     "text": [
      "Gradient Boosting Regressor error: 73.53272893471\n"
     ]
    }
   ],
   "source": [
    "from sklearn.ensemble import GradientBoostingRegressor\n",
    "\n",
    "gbr = GradientBoostingRegressor(max_depth=11, learning_rate=0.18, min_samples_split=3, min_samples_leaf=3)\n",
    "gbr.fit(X_train, y_train)\n",
    "y_predict = gbr.predict(X_test)\n",
    "\n",
    "gbr_mse = mean_squared_error(y_test, y_predict)\n",
    "print(f'Gradient Boosting Regressor error: {gbr_mse}')"
   ]
  },
  {
   "cell_type": "markdown",
   "metadata": {},
   "source": [
    "## KNeighbors Regressor"
   ]
  },
  {
   "cell_type": "code",
   "execution_count": 84,
   "metadata": {},
   "outputs": [
    {
     "name": "stdout",
     "output_type": "stream",
     "text": [
      "KNeighbors Regressor error: 70.9631651786165\n"
     ]
    }
   ],
   "source": [
    "from sklearn.neighbors import KNeighborsRegressor\n",
    "\n",
    "knr = KNeighborsRegressor(n_neighbors=40)\n",
    "knr.fit(X_train, y_train)\n",
    "y_predict = knr.predict(X_test)\n",
    "\n",
    "knr_mse = mean_squared_error(y_test, y_predict)\n",
    "print(f'KNeighbors Regressor error: {knr_mse}')"
   ]
  },
  {
   "cell_type": "code",
   "execution_count": 71,
   "metadata": {},
   "outputs": [
    {
     "name": "stdout",
     "output_type": "stream",
     "text": [
      "[ 2.8437298  15.52825683  2.68626225  9.26102274  4.61563325 33.96656564\n",
      "  4.25642233  8.81544991 17.58307389  7.9229814 ]\n",
      "1532048     3\n",
      "4050172    25\n",
      "3266929     1\n",
      "836449      9\n",
      "367902      4\n",
      "664174     32\n",
      "2913045     8\n",
      "2975247     8\n",
      "1768932    20\n",
      "2950620     5\n",
      "Name: sa_quantity, dtype: int64\n"
     ]
    }
   ],
   "source": [
    "print(y_predict[0:10])\n",
    "print(y_test[0:10])"
   ]
  },
  {
   "cell_type": "markdown",
   "metadata": {},
   "source": [
    "## XGBoost"
   ]
  },
  {
   "cell_type": "code",
   "execution_count": 12,
   "metadata": {},
   "outputs": [
    {
     "name": "stderr",
     "output_type": "stream",
     "text": [
      "/home/eduardotr/.local/lib/python3.6/site-packages/xgboost/core.py:587: FutureWarning: Series.base is deprecated and will be removed in a future version\n",
      "  if getattr(data, 'base', None) is not None and \\\n"
     ]
    },
    {
     "name": "stdout",
     "output_type": "stream",
     "text": [
      "[09:07:28] WARNING: /workspace/src/objective/regression_obj.cu:152: reg:linear is now deprecated in favor of reg:squarederror.\n",
      "XGBoost Regressor error: 71.18173299962754\n"
     ]
    }
   ],
   "source": [
    "import xgboost as xgb\n",
    "\n",
    "Xgb_train = xgb.DMatrix(X_train, y_train)\n",
    "Xgb_test = xgb.DMatrix(X_test)\n",
    "\n",
    "param = {\n",
    "    'eta':0.1,\n",
    "    'seed':0,\n",
    "    'subsample':0.8,\n",
    "    'colsample_bytree':0.8,\n",
    "    'objective':'reg:squarederror',\n",
    "    'max_depth':6,\n",
    "    'min_child_weight':1\n",
    "}\n",
    "\n",
    "xgb_reg = xgb.XGBRFRegressor().fit(X_train, y_train)\n",
    "type(xgb_reg)\n",
    "\n",
    "y_predict = xgb_reg.predict(X_test)\n",
    "xgb_mse = mean_squared_error(y_test, y_predict)\n",
    "print(f'XGBoost Regressor error: {xgb_mse}')"
   ]
  },
  {
   "cell_type": "markdown",
   "metadata": {},
   "source": [
    "# Train outliers"
   ]
  },
  {
   "cell_type": "code",
   "execution_count": 49,
   "metadata": {},
   "outputs": [
    {
     "data": {
      "text/html": [
       "<div>\n",
       "<style scoped>\n",
       "    .dataframe tbody tr th:only-of-type {\n",
       "        vertical-align: middle;\n",
       "    }\n",
       "\n",
       "    .dataframe tbody tr th {\n",
       "        vertical-align: top;\n",
       "    }\n",
       "\n",
       "    .dataframe thead th {\n",
       "        text-align: right;\n",
       "    }\n",
       "</style>\n",
       "<table border=\"1\" class=\"dataframe\">\n",
       "  <thead>\n",
       "    <tr style=\"text-align: right;\">\n",
       "      <th></th>\n",
       "      <th>location</th>\n",
       "      <th>product</th>\n",
       "      <th>sa_quantity</th>\n",
       "      <th>temp_max</th>\n",
       "      <th>temp_min</th>\n",
       "      <th>sunshine_quant</th>\n",
       "      <th>price</th>\n",
       "      <th>is_special_event</th>\n",
       "      <th>weekday</th>\n",
       "      <th>day_of_year</th>\n",
       "      <th>is_outlier</th>\n",
       "    </tr>\n",
       "  </thead>\n",
       "  <tbody>\n",
       "    <tr>\n",
       "      <td>count</td>\n",
       "      <td>500000.000000</td>\n",
       "      <td>500000.000000</td>\n",
       "      <td>500000.000000</td>\n",
       "      <td>500000.000000</td>\n",
       "      <td>500000.000000</td>\n",
       "      <td>500000.000000</td>\n",
       "      <td>500000.000000</td>\n",
       "      <td>500000.000000</td>\n",
       "      <td>500000.000000</td>\n",
       "      <td>500000.000000</td>\n",
       "      <td>500000.000000</td>\n",
       "    </tr>\n",
       "    <tr>\n",
       "      <td>mean</td>\n",
       "      <td>2272.482596</td>\n",
       "      <td>184.912128</td>\n",
       "      <td>8.496744</td>\n",
       "      <td>11.742038</td>\n",
       "      <td>5.596030</td>\n",
       "      <td>363.505322</td>\n",
       "      <td>2.989823</td>\n",
       "      <td>0.246172</td>\n",
       "      <td>3.007984</td>\n",
       "      <td>159.702884</td>\n",
       "      <td>0.044416</td>\n",
       "    </tr>\n",
       "    <tr>\n",
       "      <td>std</td>\n",
       "      <td>2070.387745</td>\n",
       "      <td>106.367515</td>\n",
       "      <td>12.952539</td>\n",
       "      <td>5.720407</td>\n",
       "      <td>4.883897</td>\n",
       "      <td>181.290533</td>\n",
       "      <td>2.052074</td>\n",
       "      <td>0.430780</td>\n",
       "      <td>2.000224</td>\n",
       "      <td>106.520245</td>\n",
       "      <td>0.206018</td>\n",
       "    </tr>\n",
       "    <tr>\n",
       "      <td>min</td>\n",
       "      <td>55.000000</td>\n",
       "      <td>1.000000</td>\n",
       "      <td>0.000000</td>\n",
       "      <td>-2.930000</td>\n",
       "      <td>-10.910000</td>\n",
       "      <td>0.000000</td>\n",
       "      <td>0.000000</td>\n",
       "      <td>0.000000</td>\n",
       "      <td>0.000000</td>\n",
       "      <td>0.000000</td>\n",
       "      <td>0.000000</td>\n",
       "    </tr>\n",
       "    <tr>\n",
       "      <td>25%</td>\n",
       "      <td>369.000000</td>\n",
       "      <td>93.000000</td>\n",
       "      <td>2.000000</td>\n",
       "      <td>7.810000</td>\n",
       "      <td>1.970000</td>\n",
       "      <td>225.000000</td>\n",
       "      <td>1.733333</td>\n",
       "      <td>0.000000</td>\n",
       "      <td>1.000000</td>\n",
       "      <td>73.000000</td>\n",
       "      <td>0.000000</td>\n",
       "    </tr>\n",
       "    <tr>\n",
       "      <td>50%</td>\n",
       "      <td>2011.000000</td>\n",
       "      <td>185.000000</td>\n",
       "      <td>5.000000</td>\n",
       "      <td>11.430000</td>\n",
       "      <td>5.560000</td>\n",
       "      <td>339.000000</td>\n",
       "      <td>2.490625</td>\n",
       "      <td>0.000000</td>\n",
       "      <td>3.000000</td>\n",
       "      <td>144.000000</td>\n",
       "      <td>0.000000</td>\n",
       "    </tr>\n",
       "    <tr>\n",
       "      <td>75%</td>\n",
       "      <td>3175.000000</td>\n",
       "      <td>277.000000</td>\n",
       "      <td>10.000000</td>\n",
       "      <td>15.980000</td>\n",
       "      <td>9.240000</td>\n",
       "      <td>489.000000</td>\n",
       "      <td>3.490164</td>\n",
       "      <td>0.000000</td>\n",
       "      <td>5.000000</td>\n",
       "      <td>240.000000</td>\n",
       "      <td>0.000000</td>\n",
       "    </tr>\n",
       "    <tr>\n",
       "      <td>max</td>\n",
       "      <td>9137.000000</td>\n",
       "      <td>369.000000</td>\n",
       "      <td>457.000000</td>\n",
       "      <td>30.280000</td>\n",
       "      <td>20.980000</td>\n",
       "      <td>1022.000000</td>\n",
       "      <td>19.000000</td>\n",
       "      <td>1.000000</td>\n",
       "      <td>6.000000</td>\n",
       "      <td>382.000000</td>\n",
       "      <td>1.000000</td>\n",
       "    </tr>\n",
       "  </tbody>\n",
       "</table>\n",
       "</div>"
      ],
      "text/plain": [
       "            location        product    sa_quantity       temp_max  \\\n",
       "count  500000.000000  500000.000000  500000.000000  500000.000000   \n",
       "mean     2272.482596     184.912128       8.496744      11.742038   \n",
       "std      2070.387745     106.367515      12.952539       5.720407   \n",
       "min        55.000000       1.000000       0.000000      -2.930000   \n",
       "25%       369.000000      93.000000       2.000000       7.810000   \n",
       "50%      2011.000000     185.000000       5.000000      11.430000   \n",
       "75%      3175.000000     277.000000      10.000000      15.980000   \n",
       "max      9137.000000     369.000000     457.000000      30.280000   \n",
       "\n",
       "            temp_min  sunshine_quant          price  is_special_event  \\\n",
       "count  500000.000000   500000.000000  500000.000000     500000.000000   \n",
       "mean        5.596030      363.505322       2.989823          0.246172   \n",
       "std         4.883897      181.290533       2.052074          0.430780   \n",
       "min       -10.910000        0.000000       0.000000          0.000000   \n",
       "25%         1.970000      225.000000       1.733333          0.000000   \n",
       "50%         5.560000      339.000000       2.490625          0.000000   \n",
       "75%         9.240000      489.000000       3.490164          0.000000   \n",
       "max        20.980000     1022.000000      19.000000          1.000000   \n",
       "\n",
       "             weekday    day_of_year     is_outlier  \n",
       "count  500000.000000  500000.000000  500000.000000  \n",
       "mean        3.007984     159.702884       0.044416  \n",
       "std         2.000224     106.520245       0.206018  \n",
       "min         0.000000       0.000000       0.000000  \n",
       "25%         1.000000      73.000000       0.000000  \n",
       "50%         3.000000     144.000000       0.000000  \n",
       "75%         5.000000     240.000000       0.000000  \n",
       "max         6.000000     382.000000       1.000000  "
      ]
     },
     "execution_count": 49,
     "metadata": {},
     "output_type": "execute_result"
    }
   ],
   "source": [
    "outliers = sample\n",
    "outliers['is_outlier'] = (outliers['sa_quantity'] > 30).astype(int)\n",
    "outliers.describe()"
   ]
  },
  {
   "cell_type": "code",
   "execution_count": 50,
   "metadata": {},
   "outputs": [],
   "source": [
    "from sklearn.model_selection import train_test_split\n",
    "\n",
    "X = outliers.drop(columns=['sa_quantity', 'is_outlier'])\n",
    "y = outliers['is_outlier']\n",
    "\n",
    "X_train, X_test, y_train, y_test = train_test_split(X, y, test_size=0.2, random_state=91)"
   ]
  },
  {
   "cell_type": "code",
   "execution_count": 51,
   "metadata": {},
   "outputs": [],
   "source": [
    "from sklearn.preprocessing import StandardScaler\n",
    "\n",
    "scaler = StandardScaler()\n",
    "scaler.fit(X_train)\n",
    "\n",
    "X_train = scaler.transform(X_train)\n",
    "X_test = scaler.transform(X_test)"
   ]
  },
  {
   "cell_type": "code",
   "execution_count": 52,
   "metadata": {},
   "outputs": [
    {
     "name": "stdout",
     "output_type": "stream",
     "text": [
      "Random forest classifier accuracy: 0.96357\n"
     ]
    }
   ],
   "source": [
    "from sklearn.ensemble import RandomForestClassifier\n",
    "from sklearn.metrics import accuracy_score\n",
    "\n",
    "clf = RandomForestClassifier(n_estimators=100, random_state=91, class_weight={0:0.1, 1:100})\n",
    "clf.fit(X_train, y_train)\n",
    "\n",
    "y_predict = clf.predict(X_test)\n",
    "\n",
    "rf_acc = accuracy_score(y_test, y_predict)\n",
    "print(f'Random forest classifier accuracy: {rf_acc}')"
   ]
  },
  {
   "cell_type": "code",
   "execution_count": 54,
   "metadata": {},
   "outputs": [
    {
     "data": {
      "text/plain": [
       "['outlier_classifier.joblib']"
      ]
     },
     "execution_count": 54,
     "metadata": {},
     "output_type": "execute_result"
    }
   ],
   "source": [
    "from joblib import dump\n",
    "\n",
    "dump(clf, 'outlier_classifier.joblib')"
   ]
  },
  {
   "cell_type": "code",
   "execution_count": 53,
   "metadata": {},
   "outputs": [
    {
     "name": "stdout",
     "output_type": "stream",
     "text": [
      "[[95218   271]\n",
      " [ 3372  1139]]\n"
     ]
    }
   ],
   "source": [
    "from sklearn.metrics import confusion_matrix\n",
    "\n",
    "conf_m = confusion_matrix(y_test, y_predict)\n",
    "print(conf_m)"
   ]
  },
  {
   "cell_type": "markdown",
   "metadata": {},
   "source": [
    "# Train outlier"
   ]
  },
  {
   "cell_type": "code",
   "execution_count": 101,
   "metadata": {},
   "outputs": [
    {
     "data": {
      "text/html": [
       "<div>\n",
       "<style scoped>\n",
       "    .dataframe tbody tr th:only-of-type {\n",
       "        vertical-align: middle;\n",
       "    }\n",
       "\n",
       "    .dataframe tbody tr th {\n",
       "        vertical-align: top;\n",
       "    }\n",
       "\n",
       "    .dataframe thead th {\n",
       "        text-align: right;\n",
       "    }\n",
       "</style>\n",
       "<table border=\"1\" class=\"dataframe\">\n",
       "  <thead>\n",
       "    <tr style=\"text-align: right;\">\n",
       "      <th></th>\n",
       "      <th>location</th>\n",
       "      <th>product</th>\n",
       "      <th>sa_quantity</th>\n",
       "      <th>temp_max</th>\n",
       "      <th>temp_min</th>\n",
       "      <th>sunshine_quant</th>\n",
       "      <th>price</th>\n",
       "      <th>is_special_event</th>\n",
       "      <th>weekday</th>\n",
       "      <th>day_of_year</th>\n",
       "    </tr>\n",
       "  </thead>\n",
       "  <tbody>\n",
       "    <tr>\n",
       "      <td>count</td>\n",
       "      <td>96569.000000</td>\n",
       "      <td>96569.000000</td>\n",
       "      <td>96569.000000</td>\n",
       "      <td>96569.000000</td>\n",
       "      <td>96569.000000</td>\n",
       "      <td>96569.000000</td>\n",
       "      <td>96569.000000</td>\n",
       "      <td>96569.000000</td>\n",
       "      <td>96569.000000</td>\n",
       "      <td>96569.000000</td>\n",
       "    </tr>\n",
       "    <tr>\n",
       "      <td>mean</td>\n",
       "      <td>1841.813853</td>\n",
       "      <td>143.136296</td>\n",
       "      <td>92.894262</td>\n",
       "      <td>11.664922</td>\n",
       "      <td>5.649368</td>\n",
       "      <td>369.359329</td>\n",
       "      <td>2.401708</td>\n",
       "      <td>0.206101</td>\n",
       "      <td>3.532811</td>\n",
       "      <td>165.660926</td>\n",
       "    </tr>\n",
       "    <tr>\n",
       "      <td>std</td>\n",
       "      <td>2024.217934</td>\n",
       "      <td>98.410695</td>\n",
       "      <td>39.563077</td>\n",
       "      <td>5.464445</td>\n",
       "      <td>4.713050</td>\n",
       "      <td>180.697500</td>\n",
       "      <td>1.495309</td>\n",
       "      <td>0.404506</td>\n",
       "      <td>1.586188</td>\n",
       "      <td>108.405404</td>\n",
       "    </tr>\n",
       "    <tr>\n",
       "      <td>min</td>\n",
       "      <td>55.000000</td>\n",
       "      <td>1.000000</td>\n",
       "      <td>61.000000</td>\n",
       "      <td>-2.930000</td>\n",
       "      <td>-10.910000</td>\n",
       "      <td>0.000000</td>\n",
       "      <td>0.450000</td>\n",
       "      <td>0.000000</td>\n",
       "      <td>0.000000</td>\n",
       "      <td>1.000000</td>\n",
       "    </tr>\n",
       "    <tr>\n",
       "      <td>25%</td>\n",
       "      <td>246.000000</td>\n",
       "      <td>64.000000</td>\n",
       "      <td>68.000000</td>\n",
       "      <td>7.780000</td>\n",
       "      <td>2.230000</td>\n",
       "      <td>234.000000</td>\n",
       "      <td>1.250000</td>\n",
       "      <td>0.000000</td>\n",
       "      <td>3.000000</td>\n",
       "      <td>77.000000</td>\n",
       "    </tr>\n",
       "    <tr>\n",
       "      <td>50%</td>\n",
       "      <td>1258.000000</td>\n",
       "      <td>118.000000</td>\n",
       "      <td>80.000000</td>\n",
       "      <td>11.230000</td>\n",
       "      <td>5.540000</td>\n",
       "      <td>343.000000</td>\n",
       "      <td>2.289815</td>\n",
       "      <td>0.000000</td>\n",
       "      <td>4.000000</td>\n",
       "      <td>152.000000</td>\n",
       "    </tr>\n",
       "    <tr>\n",
       "      <td>75%</td>\n",
       "      <td>2914.000000</td>\n",
       "      <td>218.000000</td>\n",
       "      <td>103.000000</td>\n",
       "      <td>15.680000</td>\n",
       "      <td>9.060000</td>\n",
       "      <td>495.000000</td>\n",
       "      <td>2.689655</td>\n",
       "      <td>0.000000</td>\n",
       "      <td>5.000000</td>\n",
       "      <td>247.000000</td>\n",
       "    </tr>\n",
       "    <tr>\n",
       "      <td>max</td>\n",
       "      <td>9137.000000</td>\n",
       "      <td>369.000000</td>\n",
       "      <td>819.000000</td>\n",
       "      <td>30.280000</td>\n",
       "      <td>20.980000</td>\n",
       "      <td>1022.000000</td>\n",
       "      <td>15.019149</td>\n",
       "      <td>1.000000</td>\n",
       "      <td>6.000000</td>\n",
       "      <td>382.000000</td>\n",
       "    </tr>\n",
       "  </tbody>\n",
       "</table>\n",
       "</div>"
      ],
      "text/plain": [
       "           location       product   sa_quantity      temp_max      temp_min  \\\n",
       "count  96569.000000  96569.000000  96569.000000  96569.000000  96569.000000   \n",
       "mean    1841.813853    143.136296     92.894262     11.664922      5.649368   \n",
       "std     2024.217934     98.410695     39.563077      5.464445      4.713050   \n",
       "min       55.000000      1.000000     61.000000     -2.930000    -10.910000   \n",
       "25%      246.000000     64.000000     68.000000      7.780000      2.230000   \n",
       "50%     1258.000000    118.000000     80.000000     11.230000      5.540000   \n",
       "75%     2914.000000    218.000000    103.000000     15.680000      9.060000   \n",
       "max     9137.000000    369.000000    819.000000     30.280000     20.980000   \n",
       "\n",
       "       sunshine_quant         price  is_special_event       weekday  \\\n",
       "count    96569.000000  96569.000000      96569.000000  96569.000000   \n",
       "mean       369.359329      2.401708          0.206101      3.532811   \n",
       "std        180.697500      1.495309          0.404506      1.586188   \n",
       "min          0.000000      0.450000          0.000000      0.000000   \n",
       "25%        234.000000      1.250000          0.000000      3.000000   \n",
       "50%        343.000000      2.289815          0.000000      4.000000   \n",
       "75%        495.000000      2.689655          0.000000      5.000000   \n",
       "max       1022.000000     15.019149          1.000000      6.000000   \n",
       "\n",
       "        day_of_year  \n",
       "count  96569.000000  \n",
       "mean     165.660926  \n",
       "std      108.405404  \n",
       "min        1.000000  \n",
       "25%       77.000000  \n",
       "50%      152.000000  \n",
       "75%      247.000000  \n",
       "max      382.000000  "
      ]
     },
     "execution_count": 101,
     "metadata": {},
     "output_type": "execute_result"
    }
   ],
   "source": [
    "outliers = data[data['sa_quantity'] > 60]\n",
    "outliers = outliers.drop(columns=['temp_mean'])\n",
    "outliers.describe()"
   ]
  },
  {
   "cell_type": "code",
   "execution_count": 102,
   "metadata": {},
   "outputs": [],
   "source": [
    "from sklearn.model_selection import train_test_split\n",
    "\n",
    "X = outliers.drop(columns=['sa_quantity'])\n",
    "y = outliers['sa_quantity']\n",
    "\n",
    "X_train, X_test, y_train, y_test = train_test_split(X, y, test_size=0.2, random_state=91)"
   ]
  },
  {
   "cell_type": "code",
   "execution_count": 103,
   "metadata": {},
   "outputs": [],
   "source": [
    "from sklearn.preprocessing import StandardScaler\n",
    "\n",
    "scaler = StandardScaler()\n",
    "scaler.fit(X_train)\n",
    "\n",
    "X_train = scaler.transform(X_train)\n",
    "X_test = scaler.transform(X_test)"
   ]
  },
  {
   "cell_type": "code",
   "execution_count": 104,
   "metadata": {},
   "outputs": [
    {
     "name": "stdout",
     "output_type": "stream",
     "text": [
      "Random forest regressor error: 562.1442893134515\n"
     ]
    }
   ],
   "source": [
    "from sklearn.ensemble import RandomForestRegressor\n",
    "\n",
    "clf = RandomForestRegressor(n_estimators=100, random_state=91)\n",
    "clf.fit(X_train, y_train)\n",
    "\n",
    "y_predict = clf.predict(X_test)\n",
    "\n",
    "rf_mse = mean_squared_error(y_test, y_predict)\n",
    "print(f'Random forest regressor error: {rf_mse}')"
   ]
  },
  {
   "cell_type": "code",
   "execution_count": 105,
   "metadata": {},
   "outputs": [
    {
     "data": {
      "text/plain": [
       "['outlier_reg.joblib']"
      ]
     },
     "execution_count": 105,
     "metadata": {},
     "output_type": "execute_result"
    }
   ],
   "source": [
    "from joblib import dump\n",
    "dump(clf, 'outlier_reg.joblib')"
   ]
  },
  {
   "cell_type": "markdown",
   "metadata": {},
   "source": [
    "# Train With no temp"
   ]
  },
  {
   "cell_type": "code",
   "execution_count": 71,
   "metadata": {},
   "outputs": [
    {
     "data": {
      "text/html": [
       "<div>\n",
       "<style scoped>\n",
       "    .dataframe tbody tr th:only-of-type {\n",
       "        vertical-align: middle;\n",
       "    }\n",
       "\n",
       "    .dataframe tbody tr th {\n",
       "        vertical-align: top;\n",
       "    }\n",
       "\n",
       "    .dataframe thead th {\n",
       "        text-align: right;\n",
       "    }\n",
       "</style>\n",
       "<table border=\"1\" class=\"dataframe\">\n",
       "  <thead>\n",
       "    <tr style=\"text-align: right;\">\n",
       "      <th></th>\n",
       "      <th>Unnamed: 0</th>\n",
       "      <th>location</th>\n",
       "      <th>product</th>\n",
       "      <th>sa_quantity</th>\n",
       "      <th>temp_mean</th>\n",
       "      <th>temp_max</th>\n",
       "      <th>temp_min</th>\n",
       "      <th>sunshine_quant</th>\n",
       "      <th>price</th>\n",
       "      <th>is_special_event</th>\n",
       "      <th>weekday</th>\n",
       "      <th>day_of_year</th>\n",
       "    </tr>\n",
       "  </thead>\n",
       "  <tbody>\n",
       "    <tr>\n",
       "      <td>count</td>\n",
       "      <td>4.044240e+05</td>\n",
       "      <td>404424.000000</td>\n",
       "      <td>404424.000000</td>\n",
       "      <td>404424.000000</td>\n",
       "      <td>0.0</td>\n",
       "      <td>0.0</td>\n",
       "      <td>0.0</td>\n",
       "      <td>0.0</td>\n",
       "      <td>404424.000000</td>\n",
       "      <td>404424.000000</td>\n",
       "      <td>404424.000000</td>\n",
       "      <td>404424.000000</td>\n",
       "    </tr>\n",
       "    <tr>\n",
       "      <td>mean</td>\n",
       "      <td>7.785162e+06</td>\n",
       "      <td>5944.500000</td>\n",
       "      <td>185.000000</td>\n",
       "      <td>11.056448</td>\n",
       "      <td>NaN</td>\n",
       "      <td>NaN</td>\n",
       "      <td>NaN</td>\n",
       "      <td>NaN</td>\n",
       "      <td>2.990918</td>\n",
       "      <td>0.246350</td>\n",
       "      <td>3.009124</td>\n",
       "      <td>159.726277</td>\n",
       "    </tr>\n",
       "    <tr>\n",
       "      <td>std</td>\n",
       "      <td>4.086155e+05</td>\n",
       "      <td>515.500637</td>\n",
       "      <td>106.520865</td>\n",
       "      <td>14.744311</td>\n",
       "      <td>NaN</td>\n",
       "      <td>NaN</td>\n",
       "      <td>NaN</td>\n",
       "      <td>NaN</td>\n",
       "      <td>2.058112</td>\n",
       "      <td>0.430886</td>\n",
       "      <td>2.002261</td>\n",
       "      <td>106.600201</td>\n",
       "    </tr>\n",
       "    <tr>\n",
       "      <td>min</td>\n",
       "      <td>7.279632e+06</td>\n",
       "      <td>5429.000000</td>\n",
       "      <td>1.000000</td>\n",
       "      <td>0.000000</td>\n",
       "      <td>NaN</td>\n",
       "      <td>NaN</td>\n",
       "      <td>NaN</td>\n",
       "      <td>NaN</td>\n",
       "      <td>0.000000</td>\n",
       "      <td>0.000000</td>\n",
       "      <td>0.000000</td>\n",
       "      <td>0.000000</td>\n",
       "    </tr>\n",
       "    <tr>\n",
       "      <td>25%</td>\n",
       "      <td>7.380738e+06</td>\n",
       "      <td>5429.000000</td>\n",
       "      <td>93.000000</td>\n",
       "      <td>3.000000</td>\n",
       "      <td>NaN</td>\n",
       "      <td>NaN</td>\n",
       "      <td>NaN</td>\n",
       "      <td>NaN</td>\n",
       "      <td>1.733333</td>\n",
       "      <td>0.000000</td>\n",
       "      <td>1.000000</td>\n",
       "      <td>72.750000</td>\n",
       "    </tr>\n",
       "    <tr>\n",
       "      <td>50%</td>\n",
       "      <td>7.785162e+06</td>\n",
       "      <td>5944.500000</td>\n",
       "      <td>185.000000</td>\n",
       "      <td>7.000000</td>\n",
       "      <td>NaN</td>\n",
       "      <td>NaN</td>\n",
       "      <td>NaN</td>\n",
       "      <td>NaN</td>\n",
       "      <td>2.490323</td>\n",
       "      <td>0.000000</td>\n",
       "      <td>3.000000</td>\n",
       "      <td>144.000000</td>\n",
       "    </tr>\n",
       "    <tr>\n",
       "      <td>75%</td>\n",
       "      <td>8.189585e+06</td>\n",
       "      <td>6460.000000</td>\n",
       "      <td>277.000000</td>\n",
       "      <td>14.000000</td>\n",
       "      <td>NaN</td>\n",
       "      <td>NaN</td>\n",
       "      <td>NaN</td>\n",
       "      <td>NaN</td>\n",
       "      <td>3.489286</td>\n",
       "      <td>0.000000</td>\n",
       "      <td>5.000000</td>\n",
       "      <td>240.250000</td>\n",
       "    </tr>\n",
       "    <tr>\n",
       "      <td>max</td>\n",
       "      <td>8.290691e+06</td>\n",
       "      <td>6460.000000</td>\n",
       "      <td>369.000000</td>\n",
       "      <td>413.000000</td>\n",
       "      <td>NaN</td>\n",
       "      <td>NaN</td>\n",
       "      <td>NaN</td>\n",
       "      <td>NaN</td>\n",
       "      <td>19.000000</td>\n",
       "      <td>1.000000</td>\n",
       "      <td>6.000000</td>\n",
       "      <td>382.000000</td>\n",
       "    </tr>\n",
       "  </tbody>\n",
       "</table>\n",
       "</div>"
      ],
      "text/plain": [
       "         Unnamed: 0       location        product    sa_quantity  temp_mean  \\\n",
       "count  4.044240e+05  404424.000000  404424.000000  404424.000000        0.0   \n",
       "mean   7.785162e+06    5944.500000     185.000000      11.056448        NaN   \n",
       "std    4.086155e+05     515.500637     106.520865      14.744311        NaN   \n",
       "min    7.279632e+06    5429.000000       1.000000       0.000000        NaN   \n",
       "25%    7.380738e+06    5429.000000      93.000000       3.000000        NaN   \n",
       "50%    7.785162e+06    5944.500000     185.000000       7.000000        NaN   \n",
       "75%    8.189585e+06    6460.000000     277.000000      14.000000        NaN   \n",
       "max    8.290691e+06    6460.000000     369.000000     413.000000        NaN   \n",
       "\n",
       "       temp_max  temp_min  sunshine_quant          price  is_special_event  \\\n",
       "count       0.0       0.0             0.0  404424.000000     404424.000000   \n",
       "mean        NaN       NaN             NaN       2.990918          0.246350   \n",
       "std         NaN       NaN             NaN       2.058112          0.430886   \n",
       "min         NaN       NaN             NaN       0.000000          0.000000   \n",
       "25%         NaN       NaN             NaN       1.733333          0.000000   \n",
       "50%         NaN       NaN             NaN       2.490323          0.000000   \n",
       "75%         NaN       NaN             NaN       3.489286          0.000000   \n",
       "max         NaN       NaN             NaN      19.000000          1.000000   \n",
       "\n",
       "             weekday    day_of_year  \n",
       "count  404424.000000  404424.000000  \n",
       "mean        3.009124     159.726277  \n",
       "std         2.002261     106.600201  \n",
       "min         0.000000       0.000000  \n",
       "25%         1.000000      72.750000  \n",
       "50%         3.000000     144.000000  \n",
       "75%         5.000000     240.250000  \n",
       "max         6.000000     382.000000  "
      ]
     },
     "execution_count": 71,
     "metadata": {},
     "output_type": "execute_result"
    }
   ],
   "source": [
    "data_no_temp = pd.read_csv('../data_no_temp_processed.csv')\n",
    "data_no_temp = data_no_temp.drop(columns=['Unnamed: 0', 'temp_mean', 'temp_max', 'temp_min', 'sunshine_quant'])\n",
    "data_no_temp.describe()"
   ]
  },
  {
   "cell_type": "code",
   "execution_count": 45,
   "metadata": {},
   "outputs": [],
   "source": [
    "from sklearn.model_selection import train_test_split\n",
    "\n",
    "X = data_no_temp.drop(columns=['sa_quantity'])\n",
    "y = data_no_temp['sa_quantity']\n",
    "\n",
    "X_train, X_test, y_train, y_test = train_test_split(X, y, test_size=0.2, random_state=91)"
   ]
  },
  {
   "cell_type": "code",
   "execution_count": 46,
   "metadata": {},
   "outputs": [],
   "source": [
    "from sklearn.preprocessing import StandardScaler\n",
    "\n",
    "scaler = StandardScaler()\n",
    "scaler.fit(X_train)\n",
    "\n",
    "X_train = scaler.transform(X_train)\n",
    "X_test = scaler.transform(X_test)"
   ]
  },
  {
   "cell_type": "code",
   "execution_count": 47,
   "metadata": {},
   "outputs": [
    {
     "name": "stdout",
     "output_type": "stream",
     "text": [
      "Random forest regressor error: 48.533221744452\n"
     ]
    }
   ],
   "source": [
    "from sklearn.ensemble import RandomForestRegressor\n",
    "\n",
    "clf = RandomForestRegressor(n_estimators=100, random_state=91)\n",
    "clf.fit(X_train, y_train)\n",
    "\n",
    "y_predict = clf.predict(X_test)\n",
    "\n",
    "rf_mse = mean_squared_error(y_test, y_predict)\n",
    "print(f'Random forest regressor error: {rf_mse}')"
   ]
  },
  {
   "cell_type": "code",
   "execution_count": 48,
   "metadata": {},
   "outputs": [
    {
     "data": {
      "text/plain": [
       "['no_temp_reg.joblib']"
      ]
     },
     "execution_count": 48,
     "metadata": {},
     "output_type": "execute_result"
    }
   ],
   "source": [
    "from joblib import dump\n",
    "\n",
    "dump(clf, 'no_temp_reg.joblib')"
   ]
  },
  {
   "cell_type": "markdown",
   "metadata": {},
   "source": [
    "# Final Predictor"
   ]
  },
  {
   "cell_type": "code",
   "execution_count": 1,
   "metadata": {},
   "outputs": [],
   "source": [
    "from joblib import load\n",
    "\n",
    "clf = load('outlier_classifier.joblib')\n",
    "scaler = load('scaler.joblib')\n",
    "reg = load('regressor.joblib')\n",
    "no_temp_reg = load('no_temp_reg.joblib')\n",
    "outlier_reg = load('outlier_reg.joblib')"
   ]
  },
  {
   "cell_type": "code",
   "execution_count": null,
   "metadata": {},
   "outputs": [],
   "source": [
    "import numpy as np\n",
    "import pandas as pd\n",
    "\n",
    "data = pd.read_csv('../data_to_predict_processed.csv')\n",
    "data = data.drop(columns=['Unnamed: 0'])\n",
    "\n",
    "final_prediction = np.array([]);\n",
    "\n",
    "for _, row in data.iterrows():\n",
    "    tmp = pd.DataFrame(row).T\n",
    "    has_no_temp = np.any(np.isnan(tmp['temp_mean']))\n",
    "    tmp = tmp.drop(columns=['temp_mean'])\n",
    "    if has_no_temp:\n",
    "        tmp = tmp.drop(columns=['temp_max', 'temp_min', 'sunshine_quant'])\n",
    "        tmp = scaler.transform(tmp)\n",
    "        final_prediction = np.append(final_prediction, no_temp_reg.predict(row))\n",
    "    else:\n",
    "        tmp = scaler.transform(tmp)\n",
    "        is_outlier = clf.predict(tmp)\n",
    "        if is_outlier[0] == 0:\n",
    "            prediction = reg.predict(tmp)\n",
    "        else:\n",
    "            prediction = outlier_reg.predict(tmp)\n",
    "        final_prediction = np.append(final_prediction, prediction)"
   ]
  },
  {
   "cell_type": "code",
   "execution_count": 7,
   "metadata": {},
   "outputs": [
    {
     "name": "stdout",
     "output_type": "stream",
     "text": [
      "[ 1.96  1.89  2.05 ... 11.62  2.77  9.27]\n"
     ]
    }
   ],
   "source": [
    "print(len(final_prediction))"
   ]
  }
 ],
 "metadata": {
  "kernelspec": {
   "display_name": "Python 3",
   "language": "python",
   "name": "python3"
  },
  "language_info": {
   "codemirror_mode": {
    "name": "ipython",
    "version": 3
   },
   "file_extension": ".py",
   "mimetype": "text/x-python",
   "name": "python",
   "nbconvert_exporter": "python",
   "pygments_lexer": "ipython3",
   "version": "3.6.8"
  }
 },
 "nbformat": 4,
 "nbformat_minor": 2
}
