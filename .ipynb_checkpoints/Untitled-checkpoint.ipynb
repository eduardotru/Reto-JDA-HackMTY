{
 "cells": [
  {
   "cell_type": "markdown",
   "metadata": {},
   "source": [
    "# Machine Learning"
   ]
  },
  {
   "cell_type": "code",
   "execution_count": 1,
   "metadata": {},
   "outputs": [],
   "source": [
    "from sklearn.metrics import mean_squared_error"
   ]
  },
  {
   "cell_type": "markdown",
   "metadata": {},
   "source": [
    "## Load data"
   ]
  },
  {
   "cell_type": "code",
   "execution_count": 2,
   "metadata": {},
   "outputs": [],
   "source": [
    "import pandas as pd\n",
    "\n",
    "data = pd.read_csv('../data_with_temp_processed.csv')"
   ]
  },
  {
   "cell_type": "code",
   "execution_count": 3,
   "metadata": {},
   "outputs": [
    {
     "data": {
      "text/html": [
       "<div>\n",
       "<style scoped>\n",
       "    .dataframe tbody tr th:only-of-type {\n",
       "        vertical-align: middle;\n",
       "    }\n",
       "\n",
       "    .dataframe tbody tr th {\n",
       "        vertical-align: top;\n",
       "    }\n",
       "\n",
       "    .dataframe thead th {\n",
       "        text-align: right;\n",
       "    }\n",
       "</style>\n",
       "<table border=\"1\" class=\"dataframe\">\n",
       "  <thead>\n",
       "    <tr style=\"text-align: right;\">\n",
       "      <th></th>\n",
       "      <th>Unnamed: 0</th>\n",
       "      <th>location</th>\n",
       "      <th>product</th>\n",
       "      <th>sa_quantity</th>\n",
       "      <th>temp_mean</th>\n",
       "      <th>temp_max</th>\n",
       "      <th>temp_min</th>\n",
       "      <th>sunshine_quant</th>\n",
       "      <th>price</th>\n",
       "      <th>is_special_event</th>\n",
       "      <th>weekday</th>\n",
       "      <th>day_of_year</th>\n",
       "    </tr>\n",
       "  </thead>\n",
       "  <tbody>\n",
       "    <tr>\n",
       "      <td>count</td>\n",
       "      <td>9.706176e+06</td>\n",
       "      <td>9.706176e+06</td>\n",
       "      <td>9.706176e+06</td>\n",
       "      <td>9.706176e+06</td>\n",
       "      <td>9.706176e+06</td>\n",
       "      <td>9.706176e+06</td>\n",
       "      <td>9.706176e+06</td>\n",
       "      <td>9.706176e+06</td>\n",
       "      <td>9.706176e+06</td>\n",
       "      <td>9.706176e+06</td>\n",
       "      <td>9.706176e+06</td>\n",
       "      <td>9.706176e+06</td>\n",
       "    </tr>\n",
       "    <tr>\n",
       "      <td>mean</td>\n",
       "      <td>4.941555e+06</td>\n",
       "      <td>2.272938e+03</td>\n",
       "      <td>1.850000e+02</td>\n",
       "      <td>8.502425e+00</td>\n",
       "      <td>8.665875e+00</td>\n",
       "      <td>1.173502e+01</td>\n",
       "      <td>5.596728e+00</td>\n",
       "      <td>3.629658e+02</td>\n",
       "      <td>2.990399e+00</td>\n",
       "      <td>2.463504e-01</td>\n",
       "      <td>3.009124e+00</td>\n",
       "      <td>1.597263e+02</td>\n",
       "    </tr>\n",
       "    <tr>\n",
       "      <td>std</td>\n",
       "      <td>2.922881e+06</td>\n",
       "      <td>2.071264e+03</td>\n",
       "      <td>1.065207e+02</td>\n",
       "      <td>1.294981e+01</td>\n",
       "      <td>5.113955e+00</td>\n",
       "      <td>5.717526e+00</td>\n",
       "      <td>4.884786e+00</td>\n",
       "      <td>1.812255e+02</td>\n",
       "      <td>2.053613e+00</td>\n",
       "      <td>4.308850e-01</td>\n",
       "      <td>2.002259e+00</td>\n",
       "      <td>1.066001e+02</td>\n",
       "    </tr>\n",
       "    <tr>\n",
       "      <td>min</td>\n",
       "      <td>0.000000e+00</td>\n",
       "      <td>5.500000e+01</td>\n",
       "      <td>1.000000e+00</td>\n",
       "      <td>0.000000e+00</td>\n",
       "      <td>-6.545000e+00</td>\n",
       "      <td>-2.930000e+00</td>\n",
       "      <td>-1.091000e+01</td>\n",
       "      <td>0.000000e+00</td>\n",
       "      <td>0.000000e+00</td>\n",
       "      <td>0.000000e+00</td>\n",
       "      <td>0.000000e+00</td>\n",
       "      <td>0.000000e+00</td>\n",
       "    </tr>\n",
       "    <tr>\n",
       "      <td>25%</td>\n",
       "      <td>2.426544e+06</td>\n",
       "      <td>4.200000e+02</td>\n",
       "      <td>9.300000e+01</td>\n",
       "      <td>2.000000e+00</td>\n",
       "      <td>4.960000e+00</td>\n",
       "      <td>7.820000e+00</td>\n",
       "      <td>1.970000e+00</td>\n",
       "      <td>2.250000e+02</td>\n",
       "      <td>1.736562e+00</td>\n",
       "      <td>0.000000e+00</td>\n",
       "      <td>1.000000e+00</td>\n",
       "      <td>7.275000e+01</td>\n",
       "    </tr>\n",
       "    <tr>\n",
       "      <td>50%</td>\n",
       "      <td>4.853088e+06</td>\n",
       "      <td>2.058000e+03</td>\n",
       "      <td>1.850000e+02</td>\n",
       "      <td>5.000000e+00</td>\n",
       "      <td>8.510000e+00</td>\n",
       "      <td>1.142000e+01</td>\n",
       "      <td>5.560000e+00</td>\n",
       "      <td>3.380000e+02</td>\n",
       "      <td>2.490909e+00</td>\n",
       "      <td>0.000000e+00</td>\n",
       "      <td>3.000000e+00</td>\n",
       "      <td>1.440000e+02</td>\n",
       "    </tr>\n",
       "    <tr>\n",
       "      <td>75%</td>\n",
       "      <td>7.330184e+06</td>\n",
       "      <td>3.133750e+03</td>\n",
       "      <td>2.770000e+02</td>\n",
       "      <td>1.000000e+01</td>\n",
       "      <td>1.247000e+01</td>\n",
       "      <td>1.598000e+01</td>\n",
       "      <td>9.230000e+00</td>\n",
       "      <td>4.880000e+02</td>\n",
       "      <td>3.490000e+00</td>\n",
       "      <td>0.000000e+00</td>\n",
       "      <td>5.000000e+00</td>\n",
       "      <td>2.402500e+02</td>\n",
       "    </tr>\n",
       "    <tr>\n",
       "      <td>max</td>\n",
       "      <td>1.011060e+07</td>\n",
       "      <td>9.137000e+03</td>\n",
       "      <td>3.690000e+02</td>\n",
       "      <td>8.190000e+02</td>\n",
       "      <td>2.563000e+01</td>\n",
       "      <td>3.028000e+01</td>\n",
       "      <td>2.098000e+01</td>\n",
       "      <td>1.022000e+03</td>\n",
       "      <td>5.610000e+01</td>\n",
       "      <td>1.000000e+00</td>\n",
       "      <td>6.000000e+00</td>\n",
       "      <td>3.820000e+02</td>\n",
       "    </tr>\n",
       "  </tbody>\n",
       "</table>\n",
       "</div>"
      ],
      "text/plain": [
       "         Unnamed: 0      location       product   sa_quantity     temp_mean  \\\n",
       "count  9.706176e+06  9.706176e+06  9.706176e+06  9.706176e+06  9.706176e+06   \n",
       "mean   4.941555e+06  2.272938e+03  1.850000e+02  8.502425e+00  8.665875e+00   \n",
       "std    2.922881e+06  2.071264e+03  1.065207e+02  1.294981e+01  5.113955e+00   \n",
       "min    0.000000e+00  5.500000e+01  1.000000e+00  0.000000e+00 -6.545000e+00   \n",
       "25%    2.426544e+06  4.200000e+02  9.300000e+01  2.000000e+00  4.960000e+00   \n",
       "50%    4.853088e+06  2.058000e+03  1.850000e+02  5.000000e+00  8.510000e+00   \n",
       "75%    7.330184e+06  3.133750e+03  2.770000e+02  1.000000e+01  1.247000e+01   \n",
       "max    1.011060e+07  9.137000e+03  3.690000e+02  8.190000e+02  2.563000e+01   \n",
       "\n",
       "           temp_max      temp_min  sunshine_quant         price  \\\n",
       "count  9.706176e+06  9.706176e+06    9.706176e+06  9.706176e+06   \n",
       "mean   1.173502e+01  5.596728e+00    3.629658e+02  2.990399e+00   \n",
       "std    5.717526e+00  4.884786e+00    1.812255e+02  2.053613e+00   \n",
       "min   -2.930000e+00 -1.091000e+01    0.000000e+00  0.000000e+00   \n",
       "25%    7.820000e+00  1.970000e+00    2.250000e+02  1.736562e+00   \n",
       "50%    1.142000e+01  5.560000e+00    3.380000e+02  2.490909e+00   \n",
       "75%    1.598000e+01  9.230000e+00    4.880000e+02  3.490000e+00   \n",
       "max    3.028000e+01  2.098000e+01    1.022000e+03  5.610000e+01   \n",
       "\n",
       "       is_special_event       weekday   day_of_year  \n",
       "count      9.706176e+06  9.706176e+06  9.706176e+06  \n",
       "mean       2.463504e-01  3.009124e+00  1.597263e+02  \n",
       "std        4.308850e-01  2.002259e+00  1.066001e+02  \n",
       "min        0.000000e+00  0.000000e+00  0.000000e+00  \n",
       "25%        0.000000e+00  1.000000e+00  7.275000e+01  \n",
       "50%        0.000000e+00  3.000000e+00  1.440000e+02  \n",
       "75%        0.000000e+00  5.000000e+00  2.402500e+02  \n",
       "max        1.000000e+00  6.000000e+00  3.820000e+02  "
      ]
     },
     "execution_count": 3,
     "metadata": {},
     "output_type": "execute_result"
    }
   ],
   "source": [
    "data.describe()"
   ]
  },
  {
   "cell_type": "code",
   "execution_count": 4,
   "metadata": {},
   "outputs": [],
   "source": [
    "data = data.drop(columns=['Unnamed: 0'])"
   ]
  },
  {
   "cell_type": "markdown",
   "metadata": {},
   "source": [
    "\n",
    "## Train/Test split"
   ]
  },
  {
   "cell_type": "code",
   "execution_count": 5,
   "metadata": {},
   "outputs": [],
   "source": [
    "from sklearn.model_selection import train_test_split\n",
    "\n",
    "X = data.drop(columns=['sa_quantity'])\n",
    "y = data['sa_quantity']\n",
    "\n",
    "X_train, X_test, y_train, y_test = train_test_split(X, y, test_size=0.2, random_state=91)"
   ]
  },
  {
   "cell_type": "markdown",
   "metadata": {},
   "source": [
    "## Scale data"
   ]
  },
  {
   "cell_type": "code",
   "execution_count": 6,
   "metadata": {},
   "outputs": [],
   "source": [
    "from sklearn.preprocessing import StandardScaler\n",
    "\n",
    "scaler = StandardScaler()\n",
    "scaler.fit(X_train)\n",
    "\n",
    "X_train = scaler.transform(X_train)\n",
    "X_test = scaler.transform(X_test)"
   ]
  },
  {
   "cell_type": "markdown",
   "metadata": {},
   "source": [
    "## Random Forest"
   ]
  },
  {
   "cell_type": "code",
   "execution_count": null,
   "metadata": {},
   "outputs": [],
   "source": [
    "from sklearn.ensemble import RandomForestClassifier\n",
    "\n",
    "clf = RandomForestClassifier(n_estimators=100, max_depth=5, random_state=91)\n",
    "clf.fit(X_train, y_train)\n",
    "\n",
    "y_predict = clf.predict(X_test)\n",
    "\n",
    "rf_mse = mean_squared_error(y_test, y_predict)\n",
    "print(f'Random forest classifier error: {rf_mse}')"
   ]
  }
 ],
 "metadata": {
  "kernelspec": {
   "display_name": "Python 3",
   "language": "python",
   "name": "python3"
  },
  "language_info": {
   "codemirror_mode": {
    "name": "ipython",
    "version": 3
   },
   "file_extension": ".py",
   "mimetype": "text/x-python",
   "name": "python",
   "nbconvert_exporter": "python",
   "pygments_lexer": "ipython3",
   "version": "3.6.8"
  }
 },
 "nbformat": 4,
 "nbformat_minor": 2
}
